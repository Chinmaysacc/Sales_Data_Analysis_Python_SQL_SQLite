{
 "cells": [
  {
   "cell_type": "code",
   "execution_count": 11,
   "id": "c8c81bf0-7422-45f1-9c41-ee2b959afdde",
   "metadata": {},
   "outputs": [],
   "source": [
    "import sqlite3\n",
    "import pandas as pd\n",
    "import matplotlib.pyplot as plt"
   ]
  },
  {
   "cell_type": "code",
   "execution_count": 12,
   "id": "3623bbd2-4ae8-4170-9831-eb3dafcd9a64",
   "metadata": {},
   "outputs": [],
   "source": [
    "# Connect (or create) the SQLite database file\n",
    "conn = sqlite3.connect('sales_data.db')"
   ]
  },
  {
   "cell_type": "code",
   "execution_count": 13,
   "id": "15c40454-5a9a-4170-bb02-62e5f4236589",
   "metadata": {},
   "outputs": [
    {
     "data": {
      "text/plain": [
       "<sqlite3.Cursor at 0x1ef411123c0>"
      ]
     },
     "execution_count": 13,
     "metadata": {},
     "output_type": "execute_result"
    }
   ],
   "source": [
    "# Create the sales table (if not exists)\n",
    "conn.execute('''\n",
    "CREATE TABLE IF NOT EXISTS sales (\n",
    "    id INTEGER PRIMARY KEY AUTOINCREMENT,\n",
    "    product TEXT NOT NULL,\n",
    "    quantity INTEGER NOT NULL,\n",
    "    price REAL NOT NULL\n",
    ")\n",
    "''')"
   ]
  },
  {
   "cell_type": "code",
   "execution_count": 17,
   "id": "07f7e0e3-b4d0-48a5-bd33-d6000f768071",
   "metadata": {},
   "outputs": [],
   "source": [
    "# Insert sample data (run only once, comment later if running multiple times)\n",
    "sample_data = [\n",
    "    ('Apples', 10, 2.5),\n",
    "    ('Bananas', 20, 1.0),\n",
    "    ('Cherries', 15, 3.0),\n",
    "    ('Apples', 5, 2.5),\n",
    "    ('Bananas', 10, 1.0),\n",
    "    ('Cherries', 5, 3.0)\n",
    "]"
   ]
  },
  {
   "cell_type": "code",
   "execution_count": 18,
   "id": "f3db58e1-bda9-4b6a-a6b6-1be513af29fa",
   "metadata": {},
   "outputs": [],
   "source": [
    "conn.executemany('INSERT INTO sales (product, quantity, price) VALUES (?, ?, ?)', sample_data)\n",
    "conn.commit()"
   ]
  },
  {
   "cell_type": "code",
   "execution_count": 19,
   "id": "b06c2486-c576-4e5a-a4cd-fa7bf1469162",
   "metadata": {},
   "outputs": [],
   "source": [
    "# Run the query to get total quantity and revenue per product\n",
    "query = '''\n",
    "SELECT product, \n",
    "       SUM(quantity) AS total_qty, \n",
    "       SUM(quantity * price) AS revenue\n",
    "FROM sales\n",
    "GROUP BY product\n",
    "'''\n",
    "\n",
    "df = pd.read_sql_query(query, conn)"
   ]
  },
  {
   "cell_type": "code",
   "execution_count": 20,
   "id": "927e0725-97f6-454e-a369-2e0e9de56c9f",
   "metadata": {},
   "outputs": [
    {
     "name": "stdout",
     "output_type": "stream",
     "text": [
      "    product  total_qty  revenue\n",
      "0    Apples         30     75.0\n",
      "1   Bananas         60     60.0\n",
      "2  Cherries         40    120.0\n"
     ]
    }
   ],
   "source": [
    "#Print the result\n",
    "print(df)"
   ]
  },
  {
   "cell_type": "code",
   "execution_count": 21,
   "id": "5957dfe0-ec89-4148-bf25-c64c4e4d481f",
   "metadata": {},
   "outputs": [
    {
     "ename": "SyntaxError",
     "evalue": "invalid syntax (1980315469.py, line 1)",
     "output_type": "error",
     "traceback": [
      "\u001b[1;36m  Cell \u001b[1;32mIn[21], line 1\u001b[1;36m\u001b[0m\n\u001b[1;33m    Plot revenue by product\u001b[0m\n\u001b[1;37m         ^\u001b[0m\n\u001b[1;31mSyntaxError\u001b[0m\u001b[1;31m:\u001b[0m invalid syntax\n"
     ]
    }
   ],
   "source": [
    "Plot revenue by product\n",
    "df.plot(kind='bar', x='product', y='revenue', title='Revenue by Product')\n",
    "plt.xlabel('Product')\n",
    "plt.ylabel('Revenue')\n",
    "plt.tight_layout()\n",
    "plt.show()"
   ]
  },
  {
   "cell_type": "code",
   "execution_count": 9,
   "id": "c703e797-59f9-4c07-b3e0-396a53e753b7",
   "metadata": {},
   "outputs": [],
   "source": [
    "# Close connection\n",
    "conn.close()"
   ]
  }
 ],
 "metadata": {
  "kernelspec": {
   "display_name": "Python 3 (ipykernel)",
   "language": "python",
   "name": "python3"
  },
  "language_info": {
   "codemirror_mode": {
    "name": "ipython",
    "version": 3
   },
   "file_extension": ".py",
   "mimetype": "text/x-python",
   "name": "python",
   "nbconvert_exporter": "python",
   "pygments_lexer": "ipython3",
   "version": "3.13.2"
  }
 },
 "nbformat": 4,
 "nbformat_minor": 5
}
